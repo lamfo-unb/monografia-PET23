{
 "cells": [
  {
   "cell_type": "code",
   "execution_count": 7,
   "metadata": {},
   "outputs": [],
   "source": [
    "import pandas as pd\n",
    "import ruptures as rpt"
   ]
  },
  {
   "cell_type": "code",
   "execution_count": 14,
   "metadata": {},
   "outputs": [],
   "source": [
    "# Load Data\n",
    "belarus = pd.read_csv(\"data/FX_IDC_USDBYN, 1D.csv\")[['time', 'close']]\n",
    "ukraine = pd.read_csv(\"data/FX_IDC_USDUAH, 1D.csv\")[['time', 'close']]\n",
    "russia = pd.read_csv(\"data/FX_IDC_USDRUB, 1D.csv\")[['time', 'close']]\n",
    "euro = pd.read_csv(\"data/FX_IDC_USDEUR, 1D.csv\")[['time', 'close']]\n",
    "china = pd.read_csv(\"data/FX_IDC_USDCNY, 1D.csv\")[['time', 'close']]\n",
    "poland = pd.read_csv(\"data/FX_IDC_USDPLN, 1D.csv\")[['time', 'close']]\n",
    "turkey = pd.read_csv(\"data/FX_IDC_USDTRY, 1D.csv\")[['time', 'close']]\n",
    "pound = pd.read_csv(\"data/FX_IDC_USDGBP, 1D.csv\")[['time', 'close']]\n"
   ]
  },
  {
   "cell_type": "code",
   "execution_count": 15,
   "metadata": {},
   "outputs": [],
   "source": [
    "# Read Dates\n",
    "for dataset in datasets:\n",
    "    dataset['time'] = pd.to_datetime(dataset['time'], format=\"%Y-%m-%dT%H:%M:%S%z\")"
   ]
  },
  {
   "cell_type": "code",
   "execution_count": 22,
   "metadata": {},
   "outputs": [],
   "source": [
    "# Merging datasets\n",
    "ts = (euro\n",
    "      .merge(pound, on='time', suffixes=(\".EUR\", \".GBP\"))\n",
    "      .merge(russia, on='time')\n",
    "      .merge(ukraine, on='time', suffixes=(\".RUB\", \".UAH\"))\n",
    "      .merge(belarus, on='time')\n",
    "      .merge(china, on='time', suffixes=(\".BYR\", \".CNY\"))\n",
    "      .merge(poland, on='time')\n",
    "      .merge(turkey, on='time', suffixes=(\".PLN\", \".TRY\"))\n",
    "     ).set_index('time')\n"
   ]
  },
  {
   "cell_type": "code",
   "execution_count": 23,
   "metadata": {},
   "outputs": [],
   "source": [
    "# Calculate returns\n",
    "close_prices_returns = ts.pct_change().dropna() * 100"
   ]
  },
  {
   "cell_type": "code",
   "execution_count": 26,
   "metadata": {},
   "outputs": [
    {
     "data": {
      "text/plain": [
       "time\n",
       "2003-02-27T19:00:00-03:00    0.000000\n",
       "2003-03-02T19:00:00-03:00   -0.050865\n",
       "2003-03-05T19:00:00-03:00    0.000000\n",
       "2003-03-09T19:00:00-03:00    0.407125\n",
       "2003-03-16T19:00:00-03:00    0.354790\n",
       "                               ...   \n",
       "2023-07-30T19:00:00-03:00    0.000000\n",
       "2023-07-31T19:00:00-03:00    0.000000\n",
       "2023-08-01T19:00:00-03:00    0.000000\n",
       "2023-08-02T19:00:00-03:00    0.000000\n",
       "2023-08-03T19:00:00-03:00    0.000000\n",
       "Name: close.BYR, Length: 4375, dtype: float64"
      ]
     },
     "execution_count": 26,
     "metadata": {},
     "output_type": "execute_result"
    }
   ],
   "source": [
    "close_prices_returns['close.BYR']"
   ]
  },
  {
   "cell_type": "code",
   "execution_count": 27,
   "metadata": {},
   "outputs": [],
   "source": [
    "model = \"rbf\"\n",
    "algo = rpt.Pelt(model=model).fit(close_prices_returns['close.BYR'].values)\n",
    "result = algo.predict(pen=15)"
   ]
  },
  {
   "cell_type": "code",
   "execution_count": 28,
   "metadata": {},
   "outputs": [
    {
     "data": {
      "text/plain": [
       "[630, 2130, 2535, 3460, 4025, 4375]"
      ]
     },
     "execution_count": 28,
     "metadata": {},
     "output_type": "execute_result"
    }
   ],
   "source": [
    "result"
   ]
  }
 ],
 "metadata": {
  "kernelspec": {
   "display_name": "Python 3",
   "language": "python",
   "name": "python3"
  },
  "language_info": {
   "codemirror_mode": {
    "name": "ipython",
    "version": 3
   },
   "file_extension": ".py",
   "mimetype": "text/x-python",
   "name": "python",
   "nbconvert_exporter": "python",
   "pygments_lexer": "ipython3",
   "version": "3.11.4"
  },
  "orig_nbformat": 4
 },
 "nbformat": 4,
 "nbformat_minor": 2
}
